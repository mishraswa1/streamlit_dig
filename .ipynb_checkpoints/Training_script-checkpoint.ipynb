{
 "cells": [
  {
   "cell_type": "code",
   "execution_count": 1,
   "id": "be26177b-cd13-4cf7-b0bc-fd50bafad7de",
   "metadata": {},
   "outputs": [],
   "source": [
    "import numpy as np \n",
    "import pandas as pd \n",
    "import matplotlib.pyplot as plt \n",
    "\n",
    "import torch \n",
    "import torch.nn.functional as F \n",
    "\n",
    "from tqdm.notebook import tqdm\n",
    "import utils"
   ]
  },
  {
   "cell_type": "code",
   "execution_count": 2,
   "id": "fec1aa52-be74-46c1-8b33-66e759196627",
   "metadata": {},
   "outputs": [],
   "source": [
    "from torchvision import datasets\n",
    "from torchvision import transforms as T"
   ]
  },
  {
   "cell_type": "code",
   "execution_count": 3,
   "id": "2ae3daac-bc31-4341-8631-df199e7904f2",
   "metadata": {},
   "outputs": [],
   "source": [
    "# augment the train dataset\n",
    "\n",
    "train_aug = T.Compose([T.RandomHorizontalFlip(p=0.5),\n",
    "                      T.RandomVerticalFlip(p=0.5),\n",
    "                      T.ToTensor(),   # will convert the images from h,w,c to tensors with c= channel, h=height, w=width\n",
    "                      T.Normalize(mean=0.5, std = 0.5)\n",
    "                      ])\n",
    "\n",
    "valid_aug = T.Compose([T.ToTensor(),   # will convert the images from h,w,c to tensors with c= channel, h=height, w=width\n",
    "                      T.Normalize(mean=0.5, std = 0.5)\n",
    "                      ])"
   ]
  },
  {
   "cell_type": "code",
   "execution_count": 4,
   "id": "c08a74f9-8126-42d3-afde-5c7cb59a08e6",
   "metadata": {},
   "outputs": [],
   "source": [
    "trainset = datasets.MNIST('./', download = True, train = True, transform = train_aug)\n",
    "\n",
    "testset = datasets.MNIST('./', download = True, train = False, transform = valid_aug)"
   ]
  },
  {
   "cell_type": "code",
   "execution_count": 5,
   "id": "1904eb1f-4ac9-42ab-ba55-a6a293471432",
   "metadata": {},
   "outputs": [],
   "source": [
    "trainset , validset = torch.utils.data.random_split(trainset, [50000, 10000])"
   ]
  },
  {
   "cell_type": "code",
   "execution_count": 6,
   "id": "539c6ddf-ea5e-4a2f-91f1-168c0e1d881b",
   "metadata": {},
   "outputs": [
    {
     "name": "stdout",
     "output_type": "stream",
     "text": [
      "size of trainset: 50000\n",
      "size of validset: 10000\n",
      "size of testset: 10000\n"
     ]
    }
   ],
   "source": [
    "print(f'size of trainset: {len(trainset)}')\n",
    "print(f'size of validset: {len(validset)}')\n",
    "print(f'size of testset: {len(testset)}')"
   ]
  },
  {
   "cell_type": "code",
   "execution_count": 7,
   "id": "ccca8678-ea9c-4c6a-82af-4e6622b2154c",
   "metadata": {},
   "outputs": [
    {
     "name": "stdout",
     "output_type": "stream",
     "text": [
      "shape of image : torch.Size([1, 28, 28])\n",
      "for vizualization we need (hxwxc) so using permute shape will be : torch.Size([28, 28, 1])\n"
     ]
    },
    {
     "data": {
      "text/plain": [
       "Text(0.5, 1.0, '6')"
      ]
     },
     "execution_count": 7,
     "metadata": {},
     "output_type": "execute_result"
    },
    {
     "data": {
      "image/png": "[encoded data removed]",
      "text/plain": [
       "<Figure size 640x480 with 1 Axes>"
      ]
     },
     "metadata": {},
     "output_type": "display_data"
    }
   ],
   "source": [
    "idx = 4\n",
    "image, label = trainset[idx]\n",
    "\n",
    "print(f'shape of image : {image.shape}')\n",
    "permuted_im = image.permute(1,2,0)\n",
    "print(f'for vizualization we need (hxwxc) so using permute shape will be : {permuted_im.shape}')\n",
    "plt.imshow(permuted_im, cmap='gray')\n",
    "plt.title(label)\n"
   ]
  },
  {
   "cell_type": "markdown",
   "id": "b6c27662-94de-4022-9cdb-c005e28781c4",
   "metadata": {},
   "source": [
    "# Load Data into Batches"
   ]
  },
  {
   "cell_type": "code",
   "execution_count": 8,
   "id": "6fc161bb-906a-4533-be16-378e3b408e2b",
   "metadata": {},
   "outputs": [],
   "source": [
    "from torch.utils.data import DataLoader"
   ]
  },
  {
   "cell_type": "code",
   "execution_count": 9,
   "id": "a8948639-ec57-408a-8b3d-410ae80c4167",
   "metadata": {},
   "outputs": [],
   "source": [
    "batch_size = 64\n",
    "\n",
    "train_loader = DataLoader(trainset, batch_size = batch_size, shuffle = True)\n",
    "test_loader  = DataLoader(testset, batch_size = batch_size)\n",
    "valid_loader = DataLoader(validset, batch_size = batch_size)"
   ]
  },
  {
   "cell_type": "code",
   "execution_count": 10,
   "id": "849fe0c8-d30c-4627-8c06-5ad160148169",
   "metadata": {},
   "outputs": [
    {
     "name": "stdout",
     "output_type": "stream",
     "text": [
      "size of train_loader: 782\n",
      "size of test_loader: 157\n",
      "size of valid_loader: 157\n"
     ]
    }
   ],
   "source": [
    "print(f'size of train_loader: {len(train_loader)}')\n",
    "print(f'size of test_loader: {len(test_loader)}')\n",
    "print(f'size of valid_loader: {len(valid_loader)}')"
   ]
  },
  {
   "cell_type": "code",
   "execution_count": 11,
   "id": "77ffd468-11c6-402b-9ca2-5b6b10a35fd6",
   "metadata": {},
   "outputs": [
    {
     "name": "stdout",
     "output_type": "stream",
     "text": [
      "one image-batch shape is : torch.Size([64, 1, 28, 28])\n",
      "one label-batch shape is : torch.Size([64])\n"
     ]
    }
   ],
   "source": [
    "for images, labels in train_loader:\n",
    "    print(f'one image-batch shape is : {images.shape}')\n",
    "    print(f'one label-batch shape is : {labels.shape}')\n",
    "    break"
   ]
  },
  {
   "cell_type": "markdown",
   "id": "9e7ef3cc-a789-4710-a162-c83d41c9d7c0",
   "metadata": {},
   "source": [
    "# Import custom model from models class"
   ]
  },
  {
   "cell_type": "code",
   "execution_count": 12,
   "id": "c3c16642-d128-41e9-9029-70343b9212d4",
   "metadata": {},
   "outputs": [],
   "source": [
    "from models import DigitModel"
   ]
  },
  {
   "cell_type": "code",
   "execution_count": 13,
   "id": "626f8ded-f784-4e96-ae26-2018af76c88b",
   "metadata": {},
   "outputs": [
    {
     "data": {
      "text/plain": [
       "DigitModel(\n",
       "  (cnn_block): Sequential(\n",
       "    (0): Conv2d(1, 8, kernel_size=(3, 3), stride=(1, 1), padding=(1, 1))\n",
       "    (1): BatchNorm2d(8, eps=1e-05, momentum=0.1, affine=True, track_running_stats=True)\n",
       "    (2): ReLU()\n",
       "    (3): Conv2d(8, 16, kernel_size=(3, 3), stride=(1, 1), padding=(1, 1))\n",
       "    (4): BatchNorm2d(16, eps=1e-05, momentum=0.1, affine=True, track_running_stats=True)\n",
       "    (5): ReLU()\n",
       "    (6): MaxPool2d(kernel_size=(2, 2), stride=(2, 2), padding=0, dilation=1, ceil_mode=False)\n",
       "    (7): Conv2d(16, 32, kernel_size=(3, 3), stride=(1, 1), padding=(1, 1))\n",
       "    (8): BatchNorm2d(32, eps=1e-05, momentum=0.1, affine=True, track_running_stats=True)\n",
       "    (9): ReLU()\n",
       "    (10): MaxPool2d(kernel_size=(2, 2), stride=(2, 2), padding=0, dilation=1, ceil_mode=False)\n",
       "  )\n",
       "  (linear_block): Sequential(\n",
       "    (0): Flatten(start_dim=1, end_dim=-1)\n",
       "    (1): Linear(in_features=1568, out_features=512, bias=True)\n",
       "    (2): ReLU()\n",
       "    (3): Dropout(p=0.5, inplace=False)\n",
       "    (4): Linear(in_features=512, out_features=256, bias=True)\n",
       "    (5): ReLU()\n",
       "    (6): Dropout(p=0.5, inplace=False)\n",
       "    (7): Linear(in_features=256, out_features=10, bias=True)\n",
       "  )\n",
       ")"
      ]
     },
     "execution_count": 13,
     "metadata": {},
     "output_type": "execute_result"
    }
   ],
   "source": [
    "model = DigitModel()\n",
    "model.to('cpu')"
   ]
  },
  {
   "cell_type": "markdown",
   "id": "db786444-993f-4443-9012-29db65f32f25",
   "metadata": {},
   "source": [
    "# Create Train and Evaluate functions"
   ]
  },
  {
   "cell_type": "code",
   "execution_count": 14,
   "id": "bc8eee4d-cbf8-4275-b31d-bee2b22d2453",
   "metadata": {},
   "outputs": [],
   "source": [
    "def train_fn(model, dataloader, criterion, optimizer):   # criterion is loss type\n",
    "    model.train()\n",
    "    total_loss = 0.0\n",
    "    total_acc = 0.0\n",
    "    for images, labels in tqdm(dataloader):\n",
    "        images = images.to('cpu')\n",
    "        labels = labels.to('cpu')\n",
    "\n",
    "        optimizer.zero_grad()\n",
    "        logits = model(images)\n",
    "        loss = criterion(logits, labels)\n",
    "        loss.backward()\n",
    "        optimizer.step()\n",
    "\n",
    "        total_loss += loss.item()\n",
    "        total_acc += utils.multiclass_accuracy(logits, labels)\n",
    "\n",
    "    return total_loss / len(dataloader) , total_acc / len(dataloader)"
   ]
  },
  {
   "cell_type": "code",
   "execution_count": 15,
   "id": "6affe2c4-811c-4061-8ade-4c1a63a8a1dc",
   "metadata": {},
   "outputs": [],
   "source": [
    "def eval_fn(model, dataloader, criterion):   # criterion is loss type\n",
    "    model.eval()\n",
    "    total_loss = 0.0\n",
    "    total_acc = 0.0\n",
    "\n",
    "    with torch.no_grad():\n",
    "        \n",
    "        for images, labels in tqdm(dataloader):\n",
    "            images = images.to('cpu')\n",
    "            labels = labels.to('cpu')\n",
    "    \n",
    "            logits = model(images)\n",
    "            loss = criterion(logits, labels)\n",
    "            \n",
    "            total_loss += loss.item()\n",
    "            total_acc += utils.multiclass_accuracy(logits, labels)\n",
    "    \n",
    "        return total_loss / len(dataloader) , total_acc / len(dataloader)"
   ]
  },
  {
   "cell_type": "markdown",
   "id": "a2c00c6e-7f63-46d8-91a7-9b7beb7cddf3",
   "metadata": {},
   "source": [
    "# Create training loop"
   ]
  },
  {
   "cell_type": "code",
   "execution_count": 16,
   "id": "5816dc71-25f4-4998-94f4-ce250b79cd3f",
   "metadata": {},
   "outputs": [],
   "source": [
    "criterion = torch.nn.CrossEntropyLoss()\n",
    "optimizer = torch.optim.Adam(model.parameters() , lr = 0.003)"
   ]
  },
  {
   "cell_type": "code",
   "execution_count": 17,
   "id": "1a5c1f38-ae8f-4283-93ff-d086071ebc9a",
   "metadata": {},
   "outputs": [
    {
     "data": {
      "application/vnd.jupyter.widget-view+json": {
       "model_id": "36cf902510224f898c481454c966cc91",
       "version_major": 2,
       "version_minor": 0
      },
      "text/plain": [
       "  0%|          | 0/782 [00:00<?, ?it/s]"
      ]
     },
     "metadata": {},
     "output_type": "display_data"
    },
    {
     "data": {
      "application/vnd.jupyter.widget-view+json": {
       "model_id": "c3a139304d0e435d8b05b643442cc4e9",
       "version_major": 2,
       "version_minor": 0
      },
      "text/plain": [
       "  0%|          | 0/157 [00:00<?, ?it/s]"
      ]
     },
     "metadata": {},
     "output_type": "display_data"
    },
    {
     "name": "stdout",
     "output_type": "stream",
     "text": [
      "Epoch: 1, train_acc: 0.7454044222831726, train_loss: 0.7451887339391672\n",
      "Epoch: 1, valid_acc: 0.9245620965957642, valid_loss: 0.2653084032854457\n",
      "Best Model Saved\n"
     ]
    },
    {
     "data": {
      "application/vnd.jupyter.widget-view+json": {
       "model_id": "d812132ba2cd49d9b49cd4b983af49f5",
       "version_major": 2,
       "version_minor": 0
      },
      "text/plain": [
       "  0%|          | 0/782 [00:00<?, ?it/s]"
      ]
     },
     "metadata": {},
     "output_type": "display_data"
    },
    {
     "data": {
      "application/vnd.jupyter.widget-view+json": {
       "model_id": "366a0e3994df45b6998a3ea5dce8b963",
       "version_major": 2,
       "version_minor": 0
      },
      "text/plain": [
       "  0%|          | 0/157 [00:00<?, ?it/s]"
      ]
     },
     "metadata": {},
     "output_type": "display_data"
    },
    {
     "name": "stdout",
     "output_type": "stream",
     "text": [
      "Epoch: 2, train_acc: 0.8875879049301147, train_loss: 0.3676849224073503\n",
      "Epoch: 2, valid_acc: 0.9474522471427917, valid_loss: 0.1762679558793071\n",
      "Best Model Saved\n"
     ]
    },
    {
     "data": {
      "application/vnd.jupyter.widget-view+json": {
       "model_id": "45a00ec937a843b0819069494b71b010",
       "version_major": 2,
       "version_minor": 0
      },
      "text/plain": [
       "  0%|          | 0/782 [00:00<?, ?it/s]"
      ]
     },
     "metadata": {},
     "output_type": "display_data"
    },
    {
     "data": {
      "application/vnd.jupyter.widget-view+json": {
       "model_id": "173db4eefa874cb496c9b473b8528038",
       "version_major": 2,
       "version_minor": 0
      },
      "text/plain": [
       "  0%|          | 0/157 [00:00<?, ?it/s]"
      ]
     },
     "metadata": {},
     "output_type": "display_data"
    },
    {
     "name": "stdout",
     "output_type": "stream",
     "text": [
      "Epoch: 3, train_acc: 0.9084478616714478, train_loss: 0.2973219072898788\n",
      "Epoch: 3, valid_acc: 0.9536226391792297, valid_loss: 0.15677228336263993\n",
      "Best Model Saved\n"
     ]
    },
    {
     "data": {
      "application/vnd.jupyter.widget-view+json": {
       "model_id": "708336dbb4e54f1a9952ce07ac80b4dd",
       "version_major": 2,
       "version_minor": 0
      },
      "text/plain": [
       "  0%|          | 0/782 [00:00<?, ?it/s]"
      ]
     },
     "metadata": {},
     "output_type": "display_data"
    },
    {
     "data": {
      "application/vnd.jupyter.widget-view+json": {
       "model_id": "773948e832ae48709c9c5dc4f8c0630d",
       "version_major": 2,
       "version_minor": 0
      },
      "text/plain": [
       "  0%|          | 0/157 [00:00<?, ?it/s]"
      ]
     },
     "metadata": {},
     "output_type": "display_data"
    },
    {
     "name": "stdout",
     "output_type": "stream",
     "text": [
      "Epoch: 4, train_acc: 0.9224944114685059, train_loss: 0.25772182846827735\n",
      "Epoch: 4, valid_acc: 0.9616839289665222, valid_loss: 0.12192495316148373\n",
      "Best Model Saved\n"
     ]
    },
    {
     "data": {
      "application/vnd.jupyter.widget-view+json": {
       "model_id": "799dea8d420f4a6b97d009c1cf85ecd7",
       "version_major": 2,
       "version_minor": 0
      },
      "text/plain": [
       "  0%|          | 0/782 [00:00<?, ?it/s]"
      ]
     },
     "metadata": {},
     "output_type": "display_data"
    },
    {
     "data": {
      "application/vnd.jupyter.widget-view+json": {
       "model_id": "6209c9f797dd40dba929d25e664965e7",
       "version_major": 2,
       "version_minor": 0
      },
      "text/plain": [
       "  0%|          | 0/157 [00:00<?, ?it/s]"
      ]
     },
     "metadata": {},
     "output_type": "display_data"
    },
    {
     "name": "stdout",
     "output_type": "stream",
     "text": [
      "Epoch: 5, train_acc: 0.928388774394989, train_loss: 0.23600070156118907\n",
      "Epoch: 5, valid_acc: 0.9638733863830566, valid_loss: 0.12235557556650631\n"
     ]
    },
    {
     "data": {
      "application/vnd.jupyter.widget-view+json": {
       "model_id": "bb585d84036f4e0f941a575ef5407898",
       "version_major": 2,
       "version_minor": 0
      },
      "text/plain": [
       "  0%|          | 0/782 [00:00<?, ?it/s]"
      ]
     },
     "metadata": {},
     "output_type": "display_data"
    },
    {
     "data": {
      "application/vnd.jupyter.widget-view+json": {
       "model_id": "38c9526ca7384724984d33336e448b6d",
       "version_major": 2,
       "version_minor": 0
      },
      "text/plain": [
       "  0%|          | 0/157 [00:00<?, ?it/s]"
      ]
     },
     "metadata": {},
     "output_type": "display_data"
    },
    {
     "name": "stdout",
     "output_type": "stream",
     "text": [
      "Epoch: 6, train_acc: 0.9336636662483215, train_loss: 0.2193371933620528\n",
      "Epoch: 6, valid_acc: 0.9665604829788208, valid_loss: 0.10692634211799759\n",
      "Best Model Saved\n"
     ]
    },
    {
     "data": {
      "application/vnd.jupyter.widget-view+json": {
       "model_id": "9a1ca082e16a4d3296d245e5510a5c63",
       "version_major": 2,
       "version_minor": 0
      },
      "text/plain": [
       "  0%|          | 0/782 [00:00<?, ?it/s]"
      ]
     },
     "metadata": {},
     "output_type": "display_data"
    },
    {
     "data": {
      "application/vnd.jupyter.widget-view+json": {
       "model_id": "3a4a465fdd494f67a759bc07cc7c6222",
       "version_major": 2,
       "version_minor": 0
      },
      "text/plain": [
       "  0%|          | 0/157 [00:00<?, ?it/s]"
      ]
     },
     "metadata": {},
     "output_type": "display_data"
    },
    {
     "name": "stdout",
     "output_type": "stream",
     "text": [
      "Epoch: 7, train_acc: 0.9381793737411499, train_loss: 0.2031941355665779\n",
      "Epoch: 7, valid_acc: 0.9643710255622864, valid_loss: 0.11193983735528532\n"
     ]
    }
   ],
   "source": [
    "# initialise best loss\n",
    "best_valid_loss = np.Inf\n",
    "\n",
    "for i in range(7):\n",
    "    train_loss , train_acc = train_fn(model, train_loader, criterion, optimizer)\n",
    "    valid_loss , valid_acc = eval_fn(model, valid_loader, criterion)\n",
    "\n",
    "    print(f'Epoch: {i+1}, train_acc: {train_acc}, train_loss: {train_loss}')\n",
    "    print(f'Epoch: {i+1}, valid_acc: {valid_acc}, valid_loss: {valid_loss}')\n",
    "\n",
    "    if valid_loss < best_valid_loss:\n",
    "        torch.save(model.state_dict(), \"best_weights.pt\")\n",
    "        print(\"Best Model Saved\")\n",
    "        best_valid_loss = valid_loss"
   ]
  },
  {
   "cell_type": "markdown",
   "id": "071583c8-4643-46b3-8823-129463925004",
   "metadata": {},
   "source": [
    "# Inference"
   ]
  },
  {
   "cell_type": "code",
   "execution_count": null,
   "id": "07d2d378-ebce-4044-a1a7-add82d6a1a84",
   "metadata": {},
   "outputs": [],
   "source": [
    "# pass the test image and test the model\n",
    "\n",
    "image , label = testset[1]\n",
    "best_weights = torch.load('best_weights.pt')\n",
    "\n",
    "# load model and attache the best weights to it\n",
    "model.load_state_dict(weights)\n",
    "\n",
    "# evaluate model for the test image\n",
    "model.eval()\n",
    "with torch.no_grad():\n",
    "    logits = model(image.unsqueeze(0))  ## unsqueezing the image at 0th dim ; (c,h,w)->(1,c,h,w)\n",
    "    ps = torch.nn.Softmax(dim=0)(logits)[0]\n",
    "    utils.view_classify(image, ps)"
   ]
  }
 ],
 "metadata": {
  "kernelspec": {
   "display_name": "Python 3 (ipykernel)",
   "language": "python",
   "name": "python3"
  },
  "language_info": {
   "codemirror_mode": {
    "name": "ipython",
    "version": 3
   },
   "file_extension": ".py",
   "mimetype": "text/x-python",
   "name": "python",
   "nbconvert_exporter": "python",
   "pygments_lexer": "ipython3",
   "version": "3.12.3"
  }
 },
 "nbformat": 4,
 "nbformat_minor": 5
}
